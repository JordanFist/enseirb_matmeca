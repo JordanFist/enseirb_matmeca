{
 "cells": [
  {
   "cell_type": "markdown",
   "metadata": {},
   "source": [
    "# TD 07  -- Le classique MNIST\n",
    "\n",
    "Dans ce TD nous allons mettre en oeuvre l'apprentissage sur les filtres de convolution. Nous le ferons sur la base d'exemple très connue (et très utilisée) MNIST. L'avantage est que cette base est directement disponible dans la distribution de Keras.\n",
    "\n"
   ]
  },
  {
   "cell_type": "markdown",
   "metadata": {},
   "source": [
    "## Pour être certain que vous savez de quoi vous parlez\n",
    "\n",
    "- Codez une convolution entre la matrice A et la matrice K, qui représente le Kernel\n"
   ]
  },
  {
   "cell_type": "code",
   "execution_count": 42,
   "metadata": {},
   "outputs": [
    {
     "name": "stdout",
     "output_type": "stream",
     "text": [
      "[[ 0  1  2  3  4]\n",
      " [ 5  6  7  8  9]\n",
      " [10 11 12 13 14]\n",
      " [15 16 17 18 19]\n",
      " [20 21 22 23 24]]\n",
      "[[ 1.  -1. ]\n",
      " [ 2.   0.5]]\n",
      "[[12.  14.5 17.  19.5  4. ]\n",
      " [24.5 27.  29.5 32.   9. ]\n",
      " [37.  39.5 42.  44.5 14. ]\n",
      " [49.5 52.  54.5 57.  19. ]\n",
      " [20.  21.  22.  23.  24. ]]\n"
     ]
    }
   ],
   "source": [
    "import numpy as np\n",
    "A = np.reshape(np.arange(0,25),(5,5))\n",
    "K = np.array([1., -1.,2., .5]).reshape((2,2))\n",
    "\n",
    "print(A)\n",
    "print(K)\n",
    "M = np.zeros(np.shape(A))\n",
    "\n",
    "for i in range(A.shape[0]): \n",
    "    for j in range(A.shape[1]):\n",
    "        if (i == A.shape[0] - 1 or j == A.shape[1] - 1): #la derniere colone est ligne ne sont pas affectées\n",
    "            M[i, j]= A[i, j]\n",
    "        else:\n",
    "            M[i, j] = A[i, j]*K[0, 0] + A[i+1, j]*K[1, 0] + A[i, j+1]*K[0, 1] + A[i+1, j+1]*K[1, 1]\n",
    "print(M)\n",
    "        "
   ]
  },
  {
   "cell_type": "markdown",
   "metadata": {},
   "source": [
    "### C'est parti pour la reconnaissance de chiffres !"
   ]
  },
  {
   "cell_type": "code",
   "execution_count": 1,
   "metadata": {},
   "outputs": [
    {
     "name": "stderr",
     "output_type": "stream",
     "text": [
      "Using TensorFlow backend.\n"
     ]
    },
    {
     "name": "stdout",
     "output_type": "stream",
     "text": [
      "x_train original shape (60000, 28, 28)\n",
      "y_train original shape (60000,)\n"
     ]
    }
   ],
   "source": [
    "''' First part of the work: Read and explore the data\n",
    "'''\n",
    "import numpy as np\n",
    "import matplotlib.pyplot as plt\n",
    "plt.rcParams['figure.figsize'] = (7,7) # Make the figures a bit bigger\n",
    "\n",
    "import keras\n",
    "from keras.datasets import mnist\n",
    "from keras.models import Sequential\n",
    "from keras.layers import Dense, Dropout, Flatten\n",
    "from keras.layers import Conv2D, MaxPooling2D\n",
    "\n",
    "batch_size = 128\n",
    "num_classes = 10\n",
    "epochs = 12\n",
    "\n",
    "# input image dimensions\n",
    "img_rows, img_cols = 28, 28\n",
    "\n",
    "# the data, split between train and test sets\n",
    "(x_train, y_train), (x_test, y_test) = mnist.load_data()\n",
    "print(\"x_train original shape\", x_train.shape)\n",
    "print(\"y_train original shape\", y_train.shape)"
   ]
  },
  {
   "cell_type": "code",
   "execution_count": 2,
   "metadata": {},
   "outputs": [
    {
     "data": {
      "image/png": "[encoded data removed]",
      "text/plain": [
       "<Figure size 432x288 with 9 Axes>"
      ]
     },
     "metadata": {
      "needs_background": "light"
     },
     "output_type": "display_data"
    }
   ],
   "source": [
    "for i in range(9):\n",
    "    plt.subplot(3,3,i+1)\n",
    "    plt.imshow(x_train[i], cmap='gray', interpolation='none')\n",
    "    plt.title(\"Class {}\".format(y_train[i]))\n",
    "\n",
    "plt.show()\n"
   ]
  },
  {
   "cell_type": "code",
   "execution_count": 3,
   "metadata": {},
   "outputs": [
    {
     "name": "stdout",
     "output_type": "stream",
     "text": [
      "x_train re-shaped (60000, 28, 28, 1)\n"
     ]
    }
   ],
   "source": [
    "# We need an additional work to prepare the input images\n",
    "x2_train = x_train.reshape(x_train.shape[0], img_rows, img_cols, 1)\n",
    "x2_test = x_test.reshape(x_test.shape[0], img_rows, img_cols, 1)\n",
    "input_shape = (img_rows, img_cols, 1)\n",
    "\n",
    "print(\"x_train re-shaped\", x2_train.shape)\n"
   ]
  },
  {
   "cell_type": "markdown",
   "metadata": {},
   "source": [
    "## Exploration des données\n",
    "\n",
    "- Dans un premier temps, vérifiez combien d'éléments sont dans chaque classe\n",
    "- Normalisez les valeurs en entrée pour exprimer les pixels entre 0 et 1 (vous pourrez également essayer de normaliser autour de 0)\n",
    "\n",
    "### Préparation du *hot-encoding* en sortie\n",
    "\n",
    "Il s'agit de notre premier réseau neuronal ayant des catégories en sortie. Nous ne devons pas prédire un nombre entre 0 et 9 mais un vecteur de probabilités `Y[0..9]` tel que `Y[i] = p` signifie que le chiffre est `i` avec la probabilité `p`\n",
    "- utilisez la fonction `keras.utils.to_categrical()` pour que `y_train` et `y_test`correspondent à des encodages en *hot encoding*\n"
   ]
  },
  {
   "cell_type": "code",
   "execution_count": 4,
   "metadata": {},
   "outputs": [
    {
     "name": "stdout",
     "output_type": "stream",
     "text": [
      "x2_train shape: (60000, 28, 28, 1)\n",
      "60000 train samples\n",
      "10000 test samples\n"
     ]
    }
   ],
   "source": [
    "x2_train = x2_train.astype('float32')\n",
    "x2_test = x2_test.astype('float32')\n",
    "x2_train /= 255\n",
    "x2_test /= 255\n",
    "print('x2_train shape:', x2_train.shape)\n",
    "print(x2_train.shape[0], 'train samples')\n",
    "print(x2_test.shape[0], 'test samples')\n",
    "\n",
    "# convert class vectors to binary class matrices\n",
    "y2_train = keras.utils.to_categorical(y_train, num_classes)\n",
    "y2_test = keras.utils.to_categorical(y_test, num_classes)\n",
    "\n"
   ]
  },
  {
   "cell_type": "markdown",
   "metadata": {},
   "source": [
    "## 1 - Faites sans convolution\n",
    "\n",
    "Construisez un réseau de neurones uniquement avec des couches Dense (de 5-6 couches maxis). Comptez le nombre de neurones et cherchez des paramètres permettant d'avoir déjà des performances correctes.\n",
    "- Cherchez à minimiser le nombre de couches et de de neurones par couches pour avoir des résultats ayant quasi la même qualité\n",
    "\n",
    "*Attention*\n",
    "- les couches Dense vont peut être vous obliger à mettre vos images en entrée sous forme de vecteur d'abord\n",
    "- il faut définir le modèle puis faire l'apprentissage.\n"
   ]
  },
  {
   "cell_type": "code",
   "execution_count": null,
   "metadata": {},
   "outputs": [],
   "source": [
    "model1 = Sequential()\n",
    "\n",
    "model1.add(Dense(5, ))\n",
    "\n",
    "model1.compile(loss=keras.losses.categorical_crossentropy,\n",
    "              optimizer=keras.optimizers.Adadelta(),\n",
    "              metrics=['accuracy'])\n",
    "\n",
    "epochs = 24\n",
    "\n",
    "model1.fit(x2_train, y2_train,\n",
    "          batch_size=batch_size,\n",
    "          epochs=epochs,\n",
    "          verbose=1,\n",
    "          validation_data=(x2_test, y2_test))\n",
    "score = model1.evaluate(x2_test, y2_test, verbose=0)\n",
    "print('Test loss:', score[0])\n",
    "print('Test accuracy:', score[1])\n",
    "\n"
   ]
  },
  {
   "cell_type": "markdown",
   "metadata": {},
   "source": [
    "## 2 - Construisez LeNet5\n",
    "\n",
    "![](./lenet5-architecture.png)\n",
    "\n",
    "Définissez le modèle d'apprentissage suivant le modèle ci-dessus, et relancez l'apprentissage sur ce modèle\n",
    "- Comparez le nombre de paramètres dans les premières couches avec le nombre de paramètres de l'exemple précédent\n",
    "\n",
    "*Indication* : les *kernel* sont de taille `3x3` sans padding (on pourrait le retrouver en observant les dimensions des images).\n",
    "* Attention* la résolution des images MNIST en entrée dans Keras est de 28x28 et non 32x32. \n",
    "\n",
    "- Prenez le temps de compter *à la main* le nombre de paramètres du réseau dans les couches de convolution."
   ]
  },
  {
   "cell_type": "code",
   "execution_count": 7,
   "metadata": {},
   "outputs": [
    {
     "name": "stdout",
     "output_type": "stream",
     "text": [
      "_________________________________________________________________\n",
      "Layer (type)                 Output Shape              Param #   \n",
      "=================================================================\n",
      "conv2d_1 (Conv2D)            (None, 26, 26, 6)         60        \n",
      "_________________________________________________________________\n",
      "max_pooling2d_1 (MaxPooling2 (None, 13, 13, 6)         0         \n",
      "_________________________________________________________________\n",
      "conv2d_2 (Conv2D)            (None, 11, 11, 16)        880       \n",
      "_________________________________________________________________\n",
      "max_pooling2d_2 (MaxPooling2 (None, 5, 5, 16)          0         \n",
      "_________________________________________________________________\n",
      "flatten_1 (Flatten)          (None, 400)               0         \n",
      "_________________________________________________________________\n",
      "dense_1 (Dense)              (None, 120)               48120     \n",
      "_________________________________________________________________\n",
      "dense_2 (Dense)              (None, 84)                10164     \n",
      "_________________________________________________________________\n",
      "dense_3 (Dense)              (None, 10)                850       \n",
      "=================================================================\n",
      "Total params: 60,074\n",
      "Trainable params: 60,074\n",
      "Non-trainable params: 0\n",
      "_________________________________________________________________\n",
      "(60000, 28, 28, 1)\n",
      "(60000, 10)\n",
      "Train on 60000 samples, validate on 10000 samples\n",
      "Epoch 1/3\n",
      "60000/60000 [==============================] - 17s 285us/step - loss: 0.2966 - acc: 0.9092 - val_loss: 0.0807 - val_acc: 0.9742\n",
      "Epoch 2/3\n",
      "60000/60000 [==============================] - 20s 333us/step - loss: 0.0780 - acc: 0.9758 - val_loss: 0.0537 - val_acc: 0.9835\n",
      "Epoch 3/3\n",
      "60000/60000 [==============================] - 21s 357us/step - loss: 0.0548 - acc: 0.9831 - val_loss: 0.0433 - val_acc: 0.9853\n",
      "Test loss: 0.04325350013785064\n",
      "Test accuracy: 0.9853\n"
     ]
    }
   ],
   "source": [
    "model = Sequential()\n",
    "\n",
    "# ....\n",
    "\n",
    "model.compile(loss=keras.losses.categorical_crossentropy,\n",
    "              optimizer=keras.optimizers.Adadelta(),\n",
    "              metrics=['accuracy'])\n",
    "\n",
    "model.summary()\n",
    "\n",
    "epochs = 3\n",
    "print(x2_train.shape)\n",
    "print(y2_train.shape)\n",
    "model.fit(x2_train, y2_train,\n",
    "          batch_size=batch_size,\n",
    "          epochs=epochs,\n",
    "          verbose=1,\n",
    "          validation_data=(x2_test, y2_test))\n",
    "score = model.evaluate(x2_test, y2_test, verbose=0)\n",
    "print('Test loss:', score[0])\n",
    "print('Test accuracy:', score[1])\n"
   ]
  },
  {
   "cell_type": "markdown",
   "metadata": {},
   "source": [
    "## Identifiez les chiffres à problèmes\n",
    "\n",
    "Triez les chiffres dans l'ensemble de validation suivant leur fonction de perte. Affichez les chiffres les moins bien catégorisés.\n",
    "\n",
    "- La prédiction va vous donner en sortie le hot encoding de la couche softmax.\n",
    "* Attention * le `model.predict` de keras travail sur des ensembles de données à prédire et renvoi un vecteur de prédiction. Si c'est une bonne nouvelle pour trier tous les exemples de validation d'un coup (ou presque), il faut étendre la dimension de l'entrée quand on doit tester un seul exemple, comme ci dessous:"
   ]
  },
  {
   "cell_type": "code",
   "execution_count": 24,
   "metadata": {},
   "outputs": [
    {
     "name": "stdout",
     "output_type": "stream",
     "text": [
      "(28, 28, 1)\n",
      "(1, 28, 28, 1)\n"
     ]
    },
    {
     "data": {
      "image/png": "[encoded data removed]",
      "text/plain": [
       "<Figure size 432x288 with 1 Axes>"
      ]
     },
     "metadata": {
      "needs_background": "light"
     },
     "output_type": "display_data"
    },
    {
     "name": "stdout",
     "output_type": "stream",
     "text": [
      "vecteur de probas :  [6.6059054e-04 7.9613155e-06 2.4348594e-05 5.4805632e-06 1.3366980e-05\n",
      " 2.8368693e-03 9.9994850e+01 3.2893129e-07 1.5948124e-03 3.9952297e-06]\n",
      "classe prédite : 6 (proba=   99.99%)\n"
     ]
    }
   ],
   "source": [
    "print(x2_test[1].shape)\n",
    "print((np.expand_dims(x2_test[0], axis=0)).shape)\n",
    "\n",
    "ntotest = 11\n",
    "plt.imshow(x_test[ntotest], cmap='gray', interpolation='none')\n",
    "plt.show()\n",
    "p = model.predict(np.expand_dims(x2_test[ntotest], axis=0))\n",
    "print(\"vecteur de probas : \", p[0]*100) # Probabilités par class\n",
    "c = np.argmax(p[0])\n",
    "print(\"classe prédite : {} (proba={:8.2f}%)\".format(c, p[0][c]*100))"
   ]
  },
  {
   "cell_type": "code",
   "execution_count": null,
   "metadata": {},
   "outputs": [],
   "source": []
  }
 ],
 "metadata": {
  "kernelspec": {
   "display_name": "Python 3",
   "language": "python",
   "name": "python3"
  },
  "language_info": {
   "codemirror_mode": {
    "name": "ipython",
    "version": 3
   },
   "file_extension": ".py",
   "mimetype": "text/x-python",
   "name": "python",
   "nbconvert_exporter": "python",
   "pygments_lexer": "ipython3",
   "version": "3.7.1"
  }
 },
 "nbformat": 4,
 "nbformat_minor": 2
}
