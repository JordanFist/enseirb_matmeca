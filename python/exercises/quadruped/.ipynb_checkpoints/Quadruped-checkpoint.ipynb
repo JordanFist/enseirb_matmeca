{
 "cells": [
  {
   "cell_type": "markdown",
   "metadata": {},
   "source": [
    "# Simulation de robot à Patte\n",
    "\n",
    "Cette feuille de travail (Jupyter Notebook) est dédiée à l'expérimentation de mouvement sur un robot à patte quadrupède.\n",
    "\n",
    "Elle comporte quelques explications et du code python. Les cellules de code sont exécutables et modifiables. Lorqu'on exécute une cellule de code, un interpréteur de code est exécuté en tâche de fond. A noter que l'interpréteur n'est pas relancé à chaque cellule. Pour le relancer, il faut sélectionner dans le menu \"Noyau/Redémarrer\"."
   ]
  },
  {
   "cell_type": "markdown",
   "metadata": {},
   "source": [
    "## Préliminaires\n",
    "\n",
    "En premier lieu il faut charger les bibliothèques qui nous intéresse. `time` et `math` sont classiques. En revanche, `pybullet` l'est moins. C'est le simulateur physique dans lequel va vivre notre robot.\n",
    "\n",
    "Exécutez la cellule suivante. Pour ce faire, selectionnez-la et cliquez sur le bouton *Exécuter* en dessous du menu."
   ]
  },
  {
   "cell_type": "code",
   "execution_count": 1,
   "metadata": {
    "editable": false
   },
   "outputs": [],
   "source": [
    "import math\n",
    "from time import sleep\n",
    "import pybullet as p"
   ]
  },
  {
   "cell_type": "markdown",
   "metadata": {},
   "source": [
    "Dans la cellule suivante, on charge le robot dans le simulateur. C'est une partie plutôt technique, nous n'allons pas nous intérésser."
   ]
  },
  {
   "cell_type": "code",
   "execution_count": 2,
   "metadata": {
    "editable": false
   },
   "outputs": [],
   "source": [
    "physicsClient = p.connect(p.GUI)\n",
    "p.setGravity(0, 0, -9.80665)\n",
    "planeId = p.loadURDF('plane.urdf')\n",
    "cubeStartPos = [0, 0, 0.1]\n",
    "cubeStartOrientation = p.getQuaternionFromEuler([0, 0, 0])\n",
    "quadruped = p.loadURDF(\"./quadruped/robot.urdf\",\n",
    "                       cubeStartPos, cubeStartOrientation)\n",
    "cubePos, cubeOrn = p.getBasePositionAndOrientation(quadruped)\n",
    "jointsMap = [0, 1, 2, 4, 5, 6, 8, 9, 10, 12, 13, 14]"
   ]
  },
  {
   "cell_type": "markdown",
   "metadata": {},
   "source": [
    "Si tout va bien, une fenêtre est apparue. C'est la vue du simulateur. On y voit notre robot, mais d'un peu loin. Vous pouvez zoomer avec la molette de la souris."
   ]
  },
  {
   "cell_type": "markdown",
   "metadata": {},
   "source": [
    "# Mouvements\n",
    "\n",
    "Pour le moment, le robot est immobile, et même en lévitation :). Il n'y a pas de simulation physique pour le moment. La simulation physique est une boucle qui à chaque tour calcule le nouvel état des objets qu'elle considère. Sous le mot état, on entend les positions, les vitesses, les forces, etc.\n",
    "\n",
    "Dans la cellule suivante, on fixe le pas temporel de simulation, ici 10ms. Exécutez-la. Il ne se passera rien, on ne fait que définir le pas pour la simulation future."
   ]
  },
  {
   "cell_type": "code",
   "execution_count": 3,
   "metadata": {},
   "outputs": [],
   "source": [
    "dt = 0.01\n",
    "p.setPhysicsEngineParameter(fixedTimeStep=dt)"
   ]
  },
  {
   "cell_type": "markdown",
   "metadata": {},
   "source": [
    "Nous allons piloter le robot. Pour ce faire, nous allons à chaque pas de la simulation, envoyer un ordre de position à chaque articulation. On entend par position un angle (donné en radian).  \n",
    "\n",
    "La fonction suivante a pour but de simuler un mouvement. Ici, un mouvement est une fonction `motion` qui à un temps `t` donné fournit une liste de 12 angles. Ce sont les positions que l'on veut pour les 12 moteurs du robot. La fonction est une boucle temporelle qui à chaque temps (tic) envoie au simulateur un nouvel ordre de position pour chaque moteur."
   ]
  },
  {
   "cell_type": "code",
   "execution_count": 4,
   "metadata": {},
   "outputs": [],
   "source": [
    "def simulate(motion, duration):\n",
    "    t = 0\n",
    "    while t<duration:\n",
    "        t += dt\n",
    "        joints = motion(t) # one gets angular orders for each motor\n",
    "                           # motion is a function supposed to return a list of 12 angles\n",
    "        for k in range(len(joints)):\n",
    "            # here one sends the orders to the simulator for each motor\n",
    "            jointInfo = p.getJointInfo(quadruped, jointsMap[k])\n",
    "            p.setJointMotorControl2(quadruped, jointInfo[0], p.POSITION_CONTROL, joints[k])\n",
    "        # then one launchs the simulation step \n",
    "        p.stepSimulation()        \n",
    "        sleep(dt)"
   ]
  },
  {
   "cell_type": "markdown",
   "metadata": {},
   "source": [
    "Dans la cellule suivante, on définit la fonction qui va fournir ces ordres angulaires pour chacune des articulations. Concrêtement, c'est une liste de 12 valeurs. Notez qu'il y a 12 moteurs. Pour tester, le mouvement est très simple. Il fait bouger de façon périodique les 3 premiers moteurs du robot."
   ]
  },
  {
   "cell_type": "code",
   "execution_count": 5,
   "metadata": {},
   "outputs": [],
   "source": [
    "def hello_world_motion(t):\n",
    "    joints = [0]*12\n",
    "    for joint in [0,1,2]:\n",
    "        joints[joint] = math.sin(t)\n",
    "    return joints"
   ]
  },
  {
   "cell_type": "markdown",
   "metadata": {},
   "source": [
    "Ensuite, on lance la simulation pour 10 secondes:"
   ]
  },
  {
   "cell_type": "code",
   "execution_count": null,
   "metadata": {},
   "outputs": [],
   "source": [
    "simulate(hello_world_motion, 10)"
   ]
  },
  {
   "cell_type": "markdown",
   "metadata": {},
   "source": [
    "A vous de jouer ! Pour commencer, faite un mouvement où le robot reste immobile, mais les pattes posées, la seconde articulation faisant un angle droit. \n",
    "  \n",
    "La fonction immobile décrit le mouvement. C'est à dire que pour chaque `t`, elle doit fournir les angles de chaque moteur sous la forme d'une liste de 12 valeurs réelles (des floats). De la même façon que le faisait la fonction `hello_world_motion` précédente. Dans le cas d'`immobile`, vous devez fournir les mêmes valeurs quelque soit la valeur de `t`."
   ]
  },
  {
   "cell_type": "code",
   "execution_count": null,
   "metadata": {},
   "outputs": [],
   "source": [
    "def immobile(t):\n",
    "    TODO"
   ]
  },
  {
   "cell_type": "markdown",
   "metadata": {},
   "source": [
    "Comme précédemment, définir la fonction `immobile` n'est pas suffisant, il faut lancer le simulateur (ici pour 5 secondes):"
   ]
  },
  {
   "cell_type": "code",
   "execution_count": null,
   "metadata": {},
   "outputs": [],
   "source": [
    "simulate(immobile, 5)"
   ]
  },
  {
   "cell_type": "markdown",
   "metadata": {},
   "source": [
    "En faisant appel à votre imagination, créez un premier mouvement de déplacement.  \n",
    "  \n",
    "Vous allez voir rapidement que cela n'est pas immédiat. Pour cette première approche vous pouvez appliquer la stratégie suivante:\n",
    "- considérer une succession arbitraire d'intervalles de temps $I_k$ partitionnant une durée finie qui sera la période $p$ du mouvement. Période que vous fixerez également de façon arbitraire.\n",
    "- pour chacun de ces intervalles $I_k$, definissez une position $P_k$ du robot (comme précédemment dans `immobile`). Cette position est arbitraire, c'est à vous de la définir pour créer votre mouvement.\n",
    "\n",
    "La fonction `deplacement` ainsi va:\n",
    "- déterminer l'intervalle $I_k$ auquel appartient `t`, où plus exactement, `t` \"ramené\" à la période $p$ (utilisez la fonction `math.fmod(t,p)`)\n",
    "- puis retourner la position $P_k$ correspondante.\n"
   ]
  },
  {
   "cell_type": "code",
   "execution_count": null,
   "metadata": {},
   "outputs": [],
   "source": [
    "def deplacement(t):\n",
    "    TODO"
   ]
  },
  {
   "cell_type": "code",
   "execution_count": null,
   "metadata": {},
   "outputs": [],
   "source": [
    "simulate(deplacement, 10)"
   ]
  }
 ],
 "metadata": {
  "celltoolbar": "Format de la Cellule Texte Brut",
  "kernelspec": {
   "display_name": "Python 3",
   "language": "python",
   "name": "python3"
  },
  "language_info": {
   "codemirror_mode": {
    "name": "ipython",
    "version": 3
   },
   "file_extension": ".py",
   "mimetype": "text/x-python",
   "name": "python",
   "nbconvert_exporter": "python",
   "pygments_lexer": "ipython3",
   "version": "3.7.2"
  }
 },
 "nbformat": 4,
 "nbformat_minor": 2
}
