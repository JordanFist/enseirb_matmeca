{
 "cells": [
  {
   "cell_type": "markdown",
   "metadata": {},
   "source": [
    "# Simulation de robot à Patte\n",
    "\n",
    "Cette feuille de travail (Jupyter Notebook) est dédiée à l'expérimentation de mouvement sur un robot à patte quadrupède.\n",
    "\n",
    "Elle comporte quelques explications et du code python. Les cellules de code sont exécutables et modifiables. Lorqu'on exécute une cellule de code, un interpréteur de code est exécuté en tâche de fond. A noter que l'interpréteur n'est pas relancé à chaque cellule. Pour le relancer, il faut sélectionner dans le menu \"Noyau/Redémarrer\"."
   ]
  },
  {
   "cell_type": "markdown",
   "metadata": {},
   "source": [
    "## Préliminaires\n",
    "\n",
    "En premier lieu il faut charger les bibliothèques qui nous intéresse. `time` et `math` sont classiques. En revanche, `pybullet` l'est moins. C'est le simulateur physique dans lequel va vivre notre robot.\n",
    "\n",
    "Exécutez la cellule suivante. Pour ce faire, selectionnez-la et cliquez sur le bouton *Exécuter* en dessous du menu."
   ]
  },
  {
   "cell_type": "code",
   "execution_count": 1,
   "metadata": {
    "editable": false
   },
   "outputs": [],
   "source": [
    "import math\n",
    "from time import sleep\n",
    "import pybullet as p"
   ]
  },
  {
   "cell_type": "markdown",
   "metadata": {},
   "source": [
    "Dans la cellule suivante, on charge le robot dans le simulateur. C'est une partie plutôt technique, nous n'allons pas nous intérésser."
   ]
  },
  {
   "cell_type": "code",
   "execution_count": 2,
   "metadata": {
    "editable": false
   },
   "outputs": [],
   "source": [
    "physicsClient = p.connect(p.GUI)\n",
    "p.setGravity(0, 0, -9.80665)\n",
    "planeId = p.loadURDF('plane.urdf')\n",
    "cubeStartPos = [0, 0, 0.1]\n",
    "cubeStartOrientation = p.getQuaternionFromEuler([0, 0, 0])\n",
    "quadruped = p.loadURDF(\"./quadruped/robot.urdf\",\n",
    "                       cubeStartPos, cubeStartOrientation)\n",
    "cubePos, cubeOrn = p.getBasePositionAndOrientation(quadruped)\n",
    "jointsMap = [0, 1, 2, 4, 5, 6, 8, 9, 10, 12, 13, 14]"
   ]
  },
  {
   "cell_type": "markdown",
   "metadata": {},
   "source": [
    "Si tout va bien, une fenêtre est apparue. C'est la vue du simulateur. On y voit notre robot, mais d'un peu loin. Vous pouvez zoomer avec la molette de la souris."
   ]
  },
  {
   "cell_type": "markdown",
   "metadata": {},
   "source": [
    "# Mouvements\n",
    "\n",
    "Pour le moment, le robot est immobile, et même en lévitation :). Il n'y a pas de simulation physique pour le moment. La simulation physique est une boucle qui à chaque tour calcule le nouvel état des objets qu'elle considère. Sous le mot état, on entend les positions, les vitesses, les forces, etc.\n",
    "\n",
    "Dans la cellule suivante, on fixe le pas temporel de simulation, ici 10ms. Exécutez-la. Il ne se passera rien, on ne fait que définir le pas pour la simulation future."
   ]
  },
  {
   "cell_type": "code",
   "execution_count": 3,
   "metadata": {},
   "outputs": [],
   "source": [
    "dt = 0.01\n",
    "p.setPhysicsEngineParameter(fixedTimeStep=dt)"
   ]
  },
  {
   "cell_type": "markdown",
   "metadata": {},
   "source": [
    "Nous allons piloter le robot. Pour ce faire, nous allons à chaque pas de la simulation, envoyer un ordre de position à chaque articulation. On entend par position un angle (donné en radian).  \n",
    "\n",
    "La fonction suivante a pour but de simuler un mouvement. Ici, un mouvement est une fonction `motion` qui à un temps `t` donné fournit une liste de 12 angles. Ce sont les positions que l'on veut pour les 12 moteurs du robot. La fonction est une boucle temporelle qui à chaque temps (tic) envoie au simulateur un nouvel ordre de position pour chaque moteur."
   ]
  },
  {
   "cell_type": "code",
   "execution_count": 4,
   "metadata": {},
   "outputs": [],
   "source": [
    "def simulate(motion, duration):\n",
    "    t = 0\n",
    "    while t<duration:\n",
    "        t += dt\n",
    "        joints = motion(t) # one gets angular orders for each motor\n",
    "                           # motion is a function supposed to return a list of 12 angles\n",
    "        for k in range(len(joints)):\n",
    "            # here one sends the orders to the simulator for each motor\n",
    "            jointInfo = p.getJointInfo(quadruped, jointsMap[k])\n",
    "            p.setJointMotorControl2(quadruped, jointInfo[0], p.POSITION_CONTROL, joints[k])\n",
    "        # then one launchs the simulation step \n",
    "        p.stepSimulation()        \n",
    "        sleep(dt)"
   ]
  },
  {
   "cell_type": "markdown",
   "metadata": {},
   "source": [
    "Dans la cellule suivante, on définit la fonction qui va fournir ces ordres angulaires pour chacune des articulations. Concrêtement, c'est une liste de 12 valeurs. Notez qu'il y a 12 moteurs. Pour tester, le mouvement est très simple. Il fait bouger de façon périodique les 3 premiers moteurs du robot."
   ]
  },
  {
   "cell_type": "code",
   "execution_count": null,
   "metadata": {},
   "outputs": [],
   "source": [
    "def hello_world_motion(t):\n",
    "    joints = [0]*12\n",
    "    for joint in [0,1,2]:\n",
    "        joints[joint] = math.sin(t)\n",
    "    return joints"
   ]
  },
  {
   "cell_type": "markdown",
   "metadata": {},
   "source": [
    "Ensuite, on lance la simulation pour 10 secondes:"
   ]
  },
  {
   "cell_type": "code",
   "execution_count": null,
   "metadata": {},
   "outputs": [],
   "source": [
    "#simulate(hello_world_motion, 10)"
   ]
  },
  {
   "cell_type": "code",
   "execution_count": null,
   "metadata": {},
   "outputs": [],
   "source": [
    "# Contient les angles de chaque articulation\n",
    "joints = [0]*12\n",
    "\n",
    "# Contient les positions de chaque patte\n",
    "paws = [[0, 0, 0], [0, 0, 0], [0, 0, 0], [0, 0, 0]]\n",
    "\n",
    "l1 = 4.5\n",
    "l2 = 6.5\n",
    "l3 = 8.7\n",
    "\n",
    "# Prend les coordonées où on veut poser la patte et modifie les angles pour chaque articulation de la patte\n",
    "def set_joints(paw, x, y, z):\n",
    "    teta1 = math.atan2(y, x)\n",
    "    A = [l1 * math.cos(teta1), l1 * math.sin(teta1)]\n",
    "    AM = math.sqrt((x - A[0])**2 + (y - A[1])**2 + z**2)\n",
    "    teta3 = math.acos((l2**2 + l3**2 - AM**2) / (2 * l2 * l3))\n",
    "    alpha = math.acos((l2**2 - l3**2 + AM**2) / (2 * l2 * AM))\n",
    "    beta = -math.asin(z / AM)\n",
    "    teta2 = math.pi - (alpha - beta)\n",
    "    joints[3 * paw] = teta1\n",
    "    joints[3 * paw + 1] = math.pi - teta2\n",
    "    joints[3 * paw + 2] = math.pi - teta3\n",
    "    \n",
    "# Met à jour les coordonnées de chaque patte\n",
    "def set_paws(paw, x, y, z):\n",
    "    paws[paw][0] = x\n",
    "    paws[paw][1] = y\n",
    "    paws[paw][2] = z\n",
    "\n",
    "# Retourne les coordonnées de la patte\n",
    "def get_paws(paw):\n",
    "    return paws[paw]\n",
    "\n",
    "# Lève la patte paw de delta\n",
    "def raise_paw(paw, delta):\n",
    "    p = get_paws(paw)\n",
    "    set_joints(paw, p[0], p[1], p[2] + delta)\n",
    "    set_paws(paw, p[0], p[1], p[2] + delta)\n",
    "\n",
    "# Baisse la patte paw de delta\n",
    "def drop_paw(paw, delta):\n",
    "    p = get_paws(paw)\n",
    "    set_joints(paw, p[0], p[1], p[2] - delta)\n",
    "    set_paws(paw, p[0], p[1], p[2] - delta)\n",
    "    \n",
    "# Décale la patte paw de delta dans la direction x\n",
    "def shift_pawx(paw, delta):\n",
    "    p = get_paws(paw)\n",
    "    set_joints(paw, p[0] + delta, p[1], p[2])\n",
    "    set_paws(paw, p[0] + delta, p[1], p[2])\n",
    "    \n",
    "# Décale la patte paw de delta dans la direction y\n",
    "def shift_pawy(paw, delta):\n",
    "    p = get_paws(paw)\n",
    "    set_joints(paw, p[0], p[1] + delta, p[2])\n",
    "    set_paws(paw, p[0], p[1] + delta, p[2])"
   ]
  },
  {
   "cell_type": "markdown",
   "metadata": {},
   "source": [
    "A vous de jouer ! Pour commencer, faite un mouvement où le robot reste immobile, mais les pattes posées, la seconde articulation faisant un angle droit. \n",
    "  \n",
    "La fonction immobile décrit le mouvement. C'est à dire que pour chaque `t`, elle doit fournir les angles de chaque moteur sous la forme d'une liste de 12 valeurs réelles (des floats). De la même façon que le faisait la fonction `hello_world_motion` précédente. Dans le cas d'`immobile`, vous devez fournir les mêmes valeurs quelque soit la valeur de `t`."
   ]
  },
  {
   "cell_type": "code",
   "execution_count": null,
   "metadata": {},
   "outputs": [],
   "source": [
    "def immobile(t):\n",
    "    for i in range(4):\n",
    "        set_joints(i, l1 + l2, 0, -l3)\n",
    "        set_paws(i, l1 + l2, 0, -l3)\n",
    "    return joints      "
   ]
  },
  {
   "cell_type": "markdown",
   "metadata": {},
   "source": [
    "Comme précédemment, définir la fonction `immobile` n'est pas suffisant, il faut lancer le simulateur (ici pour 5 secondes):"
   ]
  },
  {
   "cell_type": "code",
   "execution_count": null,
   "metadata": {},
   "outputs": [],
   "source": [
    "simulate(immobile, 3)"
   ]
  },
  {
   "cell_type": "markdown",
   "metadata": {},
   "source": [
    "En faisant appel à votre imagination, créez un premier mouvement de déplacement.  \n",
    "  \n",
    "Vous allez voir rapidement que cela n'est pas immédiat. Pour cette première approche vous pouvez appliquer la stratégie suivante:\n",
    "- considérer une succession arbitraire d'intervalles de temps $I_k$ partitionnant une durée finie qui sera la période $p$ du mouvement. Période que vous fixerez également de façon arbitraire.\n",
    "- pour chacun de ces intervalles $I_k$, definissez une position $P_k$ du robot (comme précédemment dans `immobile`). Cette position est arbitraire, c'est à vous de la définir pour créer votre mouvement.\n",
    "\n",
    "La fonction `deplacement` ainsi va:\n",
    "- déterminer l'intervalle $I_k$ auquel appartient `t`, où plus exactement, `t` \"ramené\" à la période $p$ (utilisez la fonction `math.fmod(t,p)`)\n",
    "- puis retourner la position $P_k$ correspondante.\n"
   ]
  },
  {
   "cell_type": "code",
   "execution_count": null,
   "metadata": {},
   "outputs": [],
   "source": [
    "# Modifier la vitesse v entraine que le robot se déplace d'un delta plus grand\n",
    "v = 5\n",
    "# Temps que l'on passe dans chaque if de la fonction deplacement\n",
    "cycle = 500 * dt / v\n",
    "# Nombre d'états du robot soit le nombre de if dans déplacement\n",
    "nombre_d_etats = 7\n",
    "\n",
    "# Si lateral est mis à 1 alors on se deplace sur les cotés (gauche et droite) s'il est mis à 0 on se déplace en avant ou en arrière\n",
    "lateral = 1\n",
    "# Deltas qui régissent le sens de direction\n",
    "delta_raise = 0.03 * v \n",
    "delta_shift = 0.03 * v # Mettre un plus ou un moins devant delta_shift pour le faire deplacer vers la gauche ou l'arriere en fonction de la valeur de lateral\n",
    "\n",
    "def deplacement(t):\n",
    "    global delta, cycle, nombre_d_etats, lateral, cote\n",
    "    \n",
    "    if ((math.fmod(t, cycle) <= cycle / nombre_d_etats)):\n",
    "        immobile(t)\n",
    "        \n",
    "    elif ((math.fmod(t, cycle) <= 2 * cycle / nombre_d_etats) and (math.fmod(t, cycle) > cycle / nombre_d_etats)):\n",
    "        if (lateral == 1):\n",
    "            raise_paw(1, delta_raise)\n",
    "            raise_paw(3, delta_raise)\n",
    "        else:\n",
    "            raise_paw(0, delta_raise)\n",
    "            raise_paw(2, delta_raise)\n",
    "        \n",
    "    elif ((math.fmod(t, cycle) <= 3 * cycle / nombre_d_etats) and (math.fmod(t, cycle) > 2 * cycle / nombre_d_etats)):\n",
    "        if (lateral == 1):\n",
    "            shift_pawx(1, -delta_shift)\n",
    "            shift_pawx(3, delta_shift)\n",
    "            shift_pawy(0, delta_shift)\n",
    "            shift_pawy(2, -delta_shift)\n",
    "        else:\n",
    "            shift_pawx(0, delta_shift)\n",
    "            shift_pawx(2, -delta_shift)\n",
    "            shift_pawy(1, delta_shift)\n",
    "            shift_pawy(3, -delta_shift)\n",
    "        \n",
    "    elif ((math.fmod(t, cycle) <= 4 * cycle / nombre_d_etats) and (math.fmod(t, cycle) > 3 * cycle / nombre_d_etats)):\n",
    "        if (lateral == 1):\n",
    "            drop_paw(1, delta_raise)\n",
    "            drop_paw(3, delta_raise)\n",
    "        else:\n",
    "            drop_paw(0, delta_raise)\n",
    "            drop_paw(2, delta_raise)\n",
    "        \n",
    "    elif ((math.fmod(t, cycle) <= 5 * cycle / nombre_d_etats) and (math.fmod(t, cycle) > 4 * cycle / nombre_d_etats)):\n",
    "        if (lateral == 1):\n",
    "            raise_paw(0, delta_raise)\n",
    "            raise_paw(2, delta_raise)\n",
    "        else:\n",
    "            raise_paw(1, delta_raise)\n",
    "            raise_paw(3, delta_raise)\n",
    "        \n",
    "    elif ((math.fmod(t, cycle) <= 6 * cycle / nombre_d_etats) and (math.fmod(t, cycle) > 5 * cycle / nombre_d_etats)):\n",
    "        if (lateral == 1):\n",
    "            shift_pawy(0, -delta_shift)\n",
    "            shift_pawy(2, delta_shift)\n",
    "            shift_pawx(1, delta_shift)\n",
    "            shift_pawx(3, -delta_shift)\n",
    "        else:\n",
    "            pass\n",
    "            shift_pawy(1, -delta_shift)\n",
    "            shift_pawy(3, delta_shift)\n",
    "            shift_pawx(0, -delta_shift)\n",
    "            shift_pawx(2, delta_shift)\n",
    "\n",
    "    elif ((math.fmod(t, cycle) <= 7 * cycle / nombre_d_etats) and (math.fmod(t, cycle) > 6 * cycle / nombre_d_etats)):\n",
    "        if (lateral == 1):\n",
    "            drop_paw(0, delta_raise)\n",
    "            drop_paw(2, delta_raise)\n",
    "        else:\n",
    "            drop_paw(1, delta_raise)\n",
    "            drop_paw(3, delta_raise)\n",
    "     \n",
    "    return joints"
   ]
  },
  {
   "cell_type": "code",
   "execution_count": null,
   "metadata": {},
   "outputs": [],
   "source": [
    "simulate(deplacement, 1000)"
   ]
  }
 ],
 "metadata": {
  "celltoolbar": "Format de la Cellule Texte Brut",
  "kernelspec": {
   "display_name": "Python 3",
   "language": "python",
   "name": "python3"
  },
  "language_info": {
   "codemirror_mode": {
    "name": "ipython",
    "version": 3
   },
   "file_extension": ".py",
   "mimetype": "text/x-python",
   "name": "python",
   "nbconvert_exporter": "python",
   "pygments_lexer": "ipython3",
   "version": "3.4.5"
  }
 },
 "nbformat": 4,
 "nbformat_minor": 2
}
